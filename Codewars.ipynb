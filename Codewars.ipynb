{
 "cells": [
  {
   "cell_type": "markdown",
   "metadata": {},
   "source": [
    "You were camping with your friends far away from home, but when it's time to go back, you realize that you fuel is running out and the nearest pump is 50 miles away! You know that on average, your car runs on about 25 miles per gallon. There are 2 gallons left. Considering these factors, write a function that tells you if it is possible to get to the pump or not. Function should return true (1 in Prolog) if it is possible and false (0 in Prolog) if not. The input values are always positive."
   ]
  },
  {
   "cell_type": "code",
   "execution_count": 8,
   "metadata": {},
   "outputs": [],
   "source": [
    "def zero_fuel(distance_to_pump, mpg, fuel_left):\n",
    "    return distance_to_pump / fuel_left <= mpg\n",
    "            "
   ]
  },
  {
   "cell_type": "markdown",
   "metadata": {},
   "source": [
    "Your task is to find the first element of an array that is not consecutive.\n",
    "\n",
    "By not consecutive we mean not exactly 1 larger than the previous element of the array.\n",
    "\n",
    "E.g. If we have an array [1,2,3,4,6,7,8] then 1 then 2 then 3 then 4 are all consecutive but 6 is not, so that's the first non-consecutive number.\n",
    "\n",
    "If the whole array is consecutive then return null2.\n",
    "\n",
    "The array will always have at least 2 elements1 and all elements will be numbers. The numbers will also all be unique and in ascending order. The numbers could be positive or negative and the first non-consecutive could be either too!\n",
    "    "
   ]
  },
  {
   "cell_type": "code",
   "execution_count": 45,
   "metadata": {},
   "outputs": [],
   "source": [
    "def first_non_consecutive(numbers):\n",
    "    num1 = numbers[0]\n",
    "    for num in numbers:\n",
    "        if num1 == num:\n",
    "            num1 += 1\n",
    "        elif num != num1:\n",
    "            return num           "
   ]
  },
  {
   "cell_type": "markdown",
   "metadata": {},
   "source": [
    "Grade book\n",
    "Complete the function so that it finds the mean of the three scores passed to it and returns the letter value associated with that grade.\n",
    "\n",
    "Numerical Score\tLetter Grade\n",
    "90 <= score <= 100\t'A'\n",
    "80 <= score < 90\t'B'\n",
    "70 <= score < 80\t'C'\n",
    "60 <= score < 70\t'D'\n",
    "0 <= score < 60\t'F'\n",
    "Tested values are all between 0 and 100. Theres is no need to check for negative values or values greater than 100."
   ]
  },
  {
   "cell_type": "code",
   "execution_count": 55,
   "metadata": {},
   "outputs": [],
   "source": [
    "def get_grade(s1, s2, s3):\n",
    "    average_grade = (s1 + s2 + s3) / 3\n",
    "    if average_grade >= 90:\n",
    "        return \"A\"\n",
    "    elif average_grade >= 80:\n",
    "        return \"B\"\n",
    "    elif average_grade >= 70:\n",
    "        return \"C\"\n",
    "    elif average_grade >= 60:\n",
    "        return \"D\"\n",
    "    else:\n",
    "        return \"F\""
   ]
  },
  {
   "cell_type": "code",
   "execution_count": 59,
   "metadata": {},
   "outputs": [
    {
     "name": "stdout",
     "output_type": "stream",
     "text": [
      "C\n"
     ]
    }
   ],
   "source": [
    "print(get_grade(60, 82, 76))"
   ]
  },
  {
   "cell_type": "markdown",
   "metadata": {},
   "source": [
    "I'm afraid you're in a rather unfortunate situation. You've injured your leg, and are unable to walk, and a number of zombies are shuffling towards you, intent on eating your brains. Luckily, you're a crack shot, and have your trusty rifle to hand.\n",
    "\n",
    "The zombies start at range metres, and move at 0.5 metres per second. Each second, you first shoot one zombie, and then the remaining zombies shamble forwards another 0.5 metres.\n",
    "\n",
    "If any zombies manage to get to 0 metres, you get eaten. If you run out of ammo before shooting all the zombies, you'll also get eaten. To keep things simple, we can ignore any time spent reloading.\n",
    "\n",
    "Write a function that accepts the total number of zombies, a range in metres, and the number of bullets you have.\n",
    "\n",
    "If you shoot all the zombies, return \"You shot all X zombies.\" If you get eaten before killing all the zombies, and before running out of ammo, return \"You shot X zombies before being eaten: overwhelmed.\" If you run out of ammo before shooting all the zombies, return \"You shot X zombies before being eaten: ran out of ammo.\"\n",
    "\n",
    "(If you run out of ammo at the same time as the remaining zombies reach you, return \"You shot X zombies before being eaten: overwhelmed.\".)\n",
    "\n",
    "Good luck! (I think you're going to need it.)"
   ]
  },
  {
   "cell_type": "code",
   "execution_count": 100,
   "metadata": {},
   "outputs": [],
   "source": [
    "#works so far, need to run more asserts and verify all combinations.\n",
    "def zombie_shootout(zombies, distance, ammo):\n",
    "    zombies_shot = distance * 2\n",
    "    if zombies_shot > zombies and ammo > zombies:\n",
    "        return \"You shot all \" + str(zombies) + \" zombies.\"\n",
    "    if zombies_shot < zombies and ammo > zombies:\n",
    "        return \"You shot \" + str((distance * 2)) + \" zombies before being eaten: overwhelmed.\"\n",
    "    if zombies_shot < zombies and ammo < zombies:\n",
    "        if ammo < zombies_shot:\n",
    "            return \"You shot \" + str(ammo) + \" zombies before being eaten: ran out of ammo.\"\n",
    "        else:\n",
    "            return \"You shot \" + str((distance * 2)) + \" zombies before being eaten: overwhelmed.\"\n",
    "    if ammo < zombies:\n",
    "        return \"You shot \" + str(ammo) + \" zombies before being eaten: ran out of ammo.\"\n",
    "        "
   ]
  },
  {
   "cell_type": "code",
   "execution_count": 101,
   "metadata": {},
   "outputs": [
    {
     "name": "stdout",
     "output_type": "stream",
     "text": [
      "You shot all 3 zombies.\n"
     ]
    }
   ],
   "source": [
    "print(zombie_shootout(3, 10, 10))"
   ]
  },
  {
   "cell_type": "code",
   "execution_count": 102,
   "metadata": {},
   "outputs": [
    {
     "name": "stdout",
     "output_type": "stream",
     "text": [
      "You shot 16 zombies before being eaten: overwhelmed.\n"
     ]
    }
   ],
   "source": [
    "print(zombie_shootout(100, 8, 200))"
   ]
  },
  {
   "cell_type": "code",
   "execution_count": 103,
   "metadata": {},
   "outputs": [
    {
     "name": "stdout",
     "output_type": "stream",
     "text": [
      "You shot 8 zombies before being eaten: ran out of ammo.\n"
     ]
    }
   ],
   "source": [
    "print(zombie_shootout(50, 10, 8))"
   ]
  },
  {
   "cell_type": "code",
   "execution_count": null,
   "metadata": {},
   "outputs": [],
   "source": []
  }
 ],
 "metadata": {
  "kernelspec": {
   "display_name": "Python 3",
   "language": "python",
   "name": "python3"
  },
  "language_info": {
   "codemirror_mode": {
    "name": "ipython",
    "version": 3
   },
   "file_extension": ".py",
   "mimetype": "text/x-python",
   "name": "python",
   "nbconvert_exporter": "python",
   "pygments_lexer": "ipython3",
   "version": "3.7.4"
  }
 },
 "nbformat": 4,
 "nbformat_minor": 2
}
